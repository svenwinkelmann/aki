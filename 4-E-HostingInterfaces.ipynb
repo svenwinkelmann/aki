{
 "cells": [
  {
   "cell_type": "markdown",
   "id": "58c5129e",
   "metadata": {},
   "source": [
    "## Hosting und Interface bestehendes Modell\n",
    "\n",
    "In der heutigen Übung möchten wir das Modell von letztem Mal (Handschrifterkennung) hosten und über eine REST-API zur Verfügung stellen. Dafür nutzen wir die Flask Library:"
   ]
  },
  {
   "cell_type": "code",
   "execution_count": null,
   "id": "f946e6fe",
   "metadata": {},
   "outputs": [],
   "source": [
    "pip install flask"
   ]
  },
  {
   "cell_type": "markdown",
   "id": "9402d439",
   "metadata": {},
   "source": [
    "### Laden des Modells inkl. Datenvorverarbeitung\n",
    "\n",
    "Letztes Mal haben wir ein Modell auf Basis des MNIST Datensatzes von Kaggle heruntergeladen und mit Tensorflow geladen. Das machen wir heute genauso:"
   ]
  },
  {
   "cell_type": "code",
   "execution_count": null,
   "id": "f16ed197",
   "metadata": {},
   "outputs": [],
   "source": [
    "import tensorflow as tf\n",
    "import os\n",
    "\n",
    "model_path = \"data/models/adhul000/mnist-99/tensorFlow2/default/1\"\n",
    "\n",
    "# todo"
   ]
  },
  {
   "cell_type": "markdown",
   "id": "5d7d0798",
   "metadata": {},
   "source": [
    "Nun benötigen wir noch unsere Funktionen zur Datenvorverarbeitung, die wir auch aus der letzten Übung kopieren können:"
   ]
  },
  {
   "cell_type": "code",
   "execution_count": null,
   "id": "86401224",
   "metadata": {},
   "outputs": [],
   "source": [
    "#todo "
   ]
  },
  {
   "cell_type": "markdown",
   "id": "37f2a029",
   "metadata": {},
   "source": [
    "### REST-API Erstellen\n",
    "\n",
    "Nun geht es an die eigentliche REST-API :). Lesen Sie sich den Artikel im Flask Tutorial \"A Minimal Application\" durch. Analog zu diesem Artikel implementieren Sie zuerst eine Route ```GET /version``` die uns Informationen über das Modell zur Verfügung stellt (z.B. den Pfad, Name oder ähnliches). \n",
    "\n",
    "Wir starten den Flask Server direkt aus dem Jupyter Notebook mit ```app.run(port=\"5000\")```. Wenn er läuft rufen Sie mit einem Internetbrowser oder Postman die Seite http://127.0.0.1:5000/version auf, da sollten Sie die Ausgabe Ihrer implementierten Funktion sehen. Wenn der Server läuft können Sie ihn mit \"Unterbrechen\" in VSCode wieder stoppen (davor lässt sich keine andere Juypter Zelle ausführen!).\n",
    "\n",
    "Implementieren Sie nun die Route ```POST /predict```, die ein Bild entgegen nimmt, es vom Modell interpretieren lässt und die erkannte Ziffer zurück gibt. Denken Sie an die Datenvorverarbeitung ;-).\n",
    "\n"
   ]
  },
  {
   "cell_type": "code",
   "execution_count": null,
   "id": "85e273b3",
   "metadata": {},
   "outputs": [],
   "source": [
    "from flask import Flask\n",
    "from flask import request \n",
    "\n",
    "#todo\n",
    "\n",
    "app.run(port=\"5000\")\n"
   ]
  },
  {
   "cell_type": "markdown",
   "id": "36d3f42a",
   "metadata": {},
   "source": [
    "Um Ihre API zu testen können Sie Postman verwenden (Anmerkung: um ein File als Value mit dem Request mit zu schicken, gibt es auf der rechten Seite von Key ein kleines DropDown zur Auswahl zwischen File und Text):\n",
    "\n",
    "![Postman Request to Server](imgs/4-Postman.jpg)"
   ]
  },
  {
   "cell_type": "markdown",
   "id": "e601ca5b",
   "metadata": {},
   "source": [
    "### Zugriff auf Web REST-API\n",
    "\n",
    "Sofern Sie mit den vorherigen Aufgaben durch sind, können Sie versuchen eine REST-API Ihrer Wahl mit Python anzusprechen. Im Jupyter Skript zur Vorlesung finden Sie ein Beispiel wie wir Mistral angesprochen haben. Da Sie für KI-API Endpunkte immer eine Registrierung bzw. API-Key benötigen, ist es ratsam eine API zu nehmen wo sie sowieso einen Acccount haben (z.B. Google, ChatGPT, Mistral, ..). Aus dem Nicht-KI-Umfeld ist es meist einfacher kostenfreie APIs zu bekommen, eine interessante Liste finden Sie hier: https://github.com/public-apis/public-apis"
   ]
  }
 ],
 "metadata": {
  "kernelspec": {
   "display_name": ".venv",
   "language": "python",
   "name": "python3"
  },
  "language_info": {
   "codemirror_mode": {
    "name": "ipython",
    "version": 3
   },
   "file_extension": ".py",
   "mimetype": "text/x-python",
   "name": "python",
   "nbconvert_exporter": "python",
   "pygments_lexer": "ipython3",
   "version": "3.13.2"
  }
 },
 "nbformat": 4,
 "nbformat_minor": 5
}
