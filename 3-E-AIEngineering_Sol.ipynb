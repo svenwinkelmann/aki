{
 "cells": [
  {
   "cell_type": "markdown",
   "id": "d5989f7f",
   "metadata": {},
   "source": [
    "## Modelle nutzen - Lösung\n",
    "\n",
    "In der letzten Übung haben wir uns einen bestehenden Datensatz (Hauspreise) angeschaut und damit gearbeietet. Heute möchten wir dasselbe mit einem bestehenden Modell zu Erkennung von handschriftlichen Zahlen machen. MNIST ist ein bestehender Datensatz aus handschrifltichen Zahlen in Graustufen mit der Größe 28x28 Pixel. Auf Basis dieses Datensatzes wurde ein Modell trainiert und auf folgender Seite publiziert:\n",
    "\n",
    "https://www.kaggle.com/models/adhul000/mnist-99 \n",
    "\n",
    "Wie auch jeder Datensatz haben die meisten publizierten Modelle eine Model Card. Lesen Sie sich die Information auf der Seite zum Modell durch. \n",
    "\n",
    "Anhand der Model Card sehen wir, dass wir python 3.x benötigen (das bedeutet irgend ein Python in Version 3, egal ob 3.11, 3.12 oder höher). Weiterhin benötigen wir Tensorflow, eine Bibliothek zum Modell-Training und Modell ausführen (wird in Teil A näher behandelt). Kagglehub und Numpy sollten wir bereits in unserem venv installiert haben, wir können es aber zusätzlich in pip angeben:"
   ]
  },
  {
   "cell_type": "code",
   "execution_count": 1,
   "id": "2cf13d90",
   "metadata": {},
   "outputs": [
    {
     "name": "stdout",
     "output_type": "stream",
     "text": [
      "Requirement already satisfied: kagglehub in ./.venv/lib/python3.13/site-packages (0.3.13)\n",
      "Requirement already satisfied: tensorflow in ./.venv/lib/python3.13/site-packages (2.20.0)\n",
      "Requirement already satisfied: numpy in ./.venv/lib/python3.13/site-packages (2.3.3)\n",
      "Requirement already satisfied: packaging in ./.venv/lib/python3.13/site-packages (from kagglehub) (25.0)\n",
      "Requirement already satisfied: pyyaml in ./.venv/lib/python3.13/site-packages (from kagglehub) (6.0.3)\n",
      "Requirement already satisfied: requests in ./.venv/lib/python3.13/site-packages (from kagglehub) (2.32.5)\n",
      "Requirement already satisfied: tqdm in ./.venv/lib/python3.13/site-packages (from kagglehub) (4.67.1)\n",
      "Requirement already satisfied: absl-py>=1.0.0 in ./.venv/lib/python3.13/site-packages (from tensorflow) (2.3.1)\n",
      "Requirement already satisfied: astunparse>=1.6.0 in ./.venv/lib/python3.13/site-packages (from tensorflow) (1.6.3)\n",
      "Requirement already satisfied: flatbuffers>=24.3.25 in ./.venv/lib/python3.13/site-packages (from tensorflow) (25.9.23)\n",
      "Requirement already satisfied: gast!=0.5.0,!=0.5.1,!=0.5.2,>=0.2.1 in ./.venv/lib/python3.13/site-packages (from tensorflow) (0.6.0)\n",
      "Requirement already satisfied: google_pasta>=0.1.1 in ./.venv/lib/python3.13/site-packages (from tensorflow) (0.2.0)\n",
      "Requirement already satisfied: libclang>=13.0.0 in ./.venv/lib/python3.13/site-packages (from tensorflow) (18.1.1)\n",
      "Requirement already satisfied: opt_einsum>=2.3.2 in ./.venv/lib/python3.13/site-packages (from tensorflow) (3.4.0)\n",
      "Requirement already satisfied: protobuf>=5.28.0 in ./.venv/lib/python3.13/site-packages (from tensorflow) (6.32.1)\n",
      "Requirement already satisfied: setuptools in ./.venv/lib/python3.13/site-packages (from tensorflow) (80.9.0)\n",
      "Requirement already satisfied: six>=1.12.0 in ./.venv/lib/python3.13/site-packages (from tensorflow) (1.17.0)\n",
      "Requirement already satisfied: termcolor>=1.1.0 in ./.venv/lib/python3.13/site-packages (from tensorflow) (3.1.0)\n",
      "Requirement already satisfied: typing_extensions>=3.6.6 in ./.venv/lib/python3.13/site-packages (from tensorflow) (4.15.0)\n",
      "Requirement already satisfied: wrapt>=1.11.0 in ./.venv/lib/python3.13/site-packages (from tensorflow) (1.17.3)\n",
      "Requirement already satisfied: grpcio<2.0,>=1.24.3 in ./.venv/lib/python3.13/site-packages (from tensorflow) (1.75.1)\n",
      "Requirement already satisfied: tensorboard~=2.20.0 in ./.venv/lib/python3.13/site-packages (from tensorflow) (2.20.0)\n",
      "Requirement already satisfied: keras>=3.10.0 in ./.venv/lib/python3.13/site-packages (from tensorflow) (3.11.3)\n",
      "Requirement already satisfied: h5py>=3.11.0 in ./.venv/lib/python3.13/site-packages (from tensorflow) (3.14.0)\n",
      "Requirement already satisfied: ml_dtypes<1.0.0,>=0.5.1 in ./.venv/lib/python3.13/site-packages (from tensorflow) (0.5.3)\n",
      "Requirement already satisfied: charset_normalizer<4,>=2 in ./.venv/lib/python3.13/site-packages (from requests->kagglehub) (3.4.3)\n",
      "Requirement already satisfied: idna<4,>=2.5 in ./.venv/lib/python3.13/site-packages (from requests->kagglehub) (3.10)\n",
      "Requirement already satisfied: urllib3<3,>=1.21.1 in ./.venv/lib/python3.13/site-packages (from requests->kagglehub) (2.5.0)\n",
      "Requirement already satisfied: certifi>=2017.4.17 in ./.venv/lib/python3.13/site-packages (from requests->kagglehub) (2025.10.5)\n",
      "Requirement already satisfied: markdown>=2.6.8 in ./.venv/lib/python3.13/site-packages (from tensorboard~=2.20.0->tensorflow) (3.9)\n",
      "Requirement already satisfied: pillow in ./.venv/lib/python3.13/site-packages (from tensorboard~=2.20.0->tensorflow) (11.3.0)\n",
      "Requirement already satisfied: tensorboard-data-server<0.8.0,>=0.7.0 in ./.venv/lib/python3.13/site-packages (from tensorboard~=2.20.0->tensorflow) (0.7.2)\n",
      "Requirement already satisfied: werkzeug>=1.0.1 in ./.venv/lib/python3.13/site-packages (from tensorboard~=2.20.0->tensorflow) (3.1.3)\n",
      "Requirement already satisfied: wheel<1.0,>=0.23.0 in ./.venv/lib/python3.13/site-packages (from astunparse>=1.6.0->tensorflow) (0.45.1)\n",
      "Requirement already satisfied: rich in ./.venv/lib/python3.13/site-packages (from keras>=3.10.0->tensorflow) (14.1.0)\n",
      "Requirement already satisfied: namex in ./.venv/lib/python3.13/site-packages (from keras>=3.10.0->tensorflow) (0.1.0)\n",
      "Requirement already satisfied: optree in ./.venv/lib/python3.13/site-packages (from keras>=3.10.0->tensorflow) (0.17.0)\n",
      "Requirement already satisfied: MarkupSafe>=2.1.1 in ./.venv/lib/python3.13/site-packages (from werkzeug>=1.0.1->tensorboard~=2.20.0->tensorflow) (3.0.3)\n",
      "Requirement already satisfied: markdown-it-py>=2.2.0 in ./.venv/lib/python3.13/site-packages (from rich->keras>=3.10.0->tensorflow) (4.0.0)\n",
      "Requirement already satisfied: pygments<3.0.0,>=2.13.0 in ./.venv/lib/python3.13/site-packages (from rich->keras>=3.10.0->tensorflow) (2.19.2)\n",
      "Requirement already satisfied: mdurl~=0.1 in ./.venv/lib/python3.13/site-packages (from markdown-it-py>=2.2.0->rich->keras>=3.10.0->tensorflow) (0.1.2)\n",
      "Note: you may need to restart the kernel to use updated packages.\n"
     ]
    }
   ],
   "source": [
    "pip install kagglehub tensorflow numpy"
   ]
  },
  {
   "cell_type": "markdown",
   "id": "f556d77a",
   "metadata": {},
   "source": [
    "Als nächstes laden wir uns das Modell von Kaggle herunter. Hierfür nutzen wir, wie bereits beim Datensatz, die Bibliothek kagglehub. Mit Angabe der Umbegungsvariablen ```KAGGLEHUB_CACHE``` können wir bestimmen wo unser Modell lokal auf der Festplatte gespeichert wird:"
   ]
  },
  {
   "cell_type": "code",
   "execution_count": 2,
   "id": "e45ee9f4",
   "metadata": {},
   "outputs": [
    {
     "name": "stderr",
     "output_type": "stream",
     "text": [
      "/Users/winkelmannsv/git/aki/.venv/lib/python3.13/site-packages/tqdm/auto.py:21: TqdmWarning: IProgress not found. Please update jupyter and ipywidgets. See https://ipywidgets.readthedocs.io/en/stable/user_install.html\n",
      "  from .autonotebook import tqdm as notebook_tqdm\n"
     ]
    },
    {
     "name": "stdout",
     "output_type": "stream",
     "text": [
      "Path to model files: data/models/adhul000/mnist-99/tensorFlow2/default/1\n"
     ]
    }
   ],
   "source": [
    "import kagglehub\n",
    "import os\n",
    "\n",
    "# Download latest model version\n",
    "os.environ['KAGGLEHUB_CACHE'] = 'data'\n",
    "path = kagglehub.model_download(\"adhul000/mnist-99/tensorFlow2/default\")\n",
    "\n",
    "print(\"Path to model files:\", path)"
   ]
  },
  {
   "cell_type": "markdown",
   "id": "fe4cecfd",
   "metadata": {},
   "source": [
    "Da wir nun ein fertig trainiertes Modell haben, können wir dies mit Tensorflow laden und verwenden:"
   ]
  },
  {
   "cell_type": "code",
   "execution_count": 3,
   "id": "2d1a5bed",
   "metadata": {},
   "outputs": [
    {
     "name": "stderr",
     "output_type": "stream",
     "text": [
      "WARNING:absl:Compiled the loaded model, but the compiled metrics have yet to be built. `model.compile_metrics` will be empty until you train or evaluate the model.\n"
     ]
    }
   ],
   "source": [
    "import tensorflow as tf\n",
    "\n",
    "model = tf.keras.models.load_model(os.path.join(path, \"best_model.h5\"))"
   ]
  },
  {
   "cell_type": "markdown",
   "id": "81dec992",
   "metadata": {},
   "source": [
    "Nun benötigen wir noch handschriftliche Zahlen, die wir erkennen können. Schreiben Sie hierfür eine Zahl auf einen Zettel und machen mit Ihrem Smartphone ein Bild davon. Das speichern Sie auf Ihrem Computer, am Besten in diesem Repository im Ordern ```imgs```. Schneiden Sie das Bild mit einem Bildverarbeitungsprogramm so zu, dass die Zahl möglichst das gesamte Bild ausfüllt. Sie finden zwei Beispiele im Ordner: ```3-6.JPG``` und ```3-8.JPG```.\n",
    "\n",
    "Wie in der Vorlesung behandelt ist nun die Herausforderung das Bild in das richtige Format und die richtige Pixelgröße zu bekommen. Hierfür erstellen wir uns eine Python-Funktion, welche einen Pfad zu einem Bild übergeben bekommt, das Bild lädt, transformiert und schließlich zurück gibt. Dafür setzen wir die Bibliothek PIL ein.\n",
    "\n",
    "Lesen Sie die Model Card aufmerksam: Welche Schritte müssen Sie ausführen, um Ihr fotografiertes Bild in das richtige Format für das Modell zu bringen? (*Anmerkung: die Schritte können auch eine andere Reihenfolge haben*)"
   ]
  },
  {
   "cell_type": "code",
   "execution_count": 10,
   "id": "d2d46ca4",
   "metadata": {},
   "outputs": [],
   "source": [
    "import numpy as np\n",
    "from PIL import Image\n",
    "\n",
    "def preprocess_image(image_path: str) -> Image:\n",
    "    img = Image.open(image_path)  \n",
    "    img = img.convert(\"L\")  # Schritt 1: Convert to grayscale\n",
    "    img = img.resize((28, 28))  # Schritt 2: Resize to 28x28\n",
    "    return img"
   ]
  },
  {
   "cell_type": "markdown",
   "id": "cb6848d5",
   "metadata": {},
   "source": [
    "Nun verwenden wir unsere Funktion, um das Bild in das richtige Format zu transformieren. Mit der Funktion ```show()``` können wir uns das Bild anzeigen lassen:"
   ]
  },
  {
   "cell_type": "code",
   "execution_count": 15,
   "id": "b80d4f29",
   "metadata": {},
   "outputs": [
    {
     "name": "stdout",
     "output_type": "stream",
     "text": [
      "Datentyp unseres Bildes:  <class 'PIL.Image.Image'>\n",
      "Array Größe des Bildes:  (28, 28)\n"
     ]
    }
   ],
   "source": [
    "preprocessed_img = preprocess_image(os.path.join('imgs', '3-6.JPG'))\n",
    "\n",
    "preprocessed_img.show()\n",
    "print(\"Datentyp unseres Bildes: \", type(preprocessed_img))\n",
    "print(\"Array Größe des Bildes: \", preprocessed_img.size)"
   ]
  },
  {
   "cell_type": "markdown",
   "id": "c501760b",
   "metadata": {},
   "source": [
    "Nun wird es etwas tricky :). Folgende Schritte müssen wir noch durchführen, damit das Modell unser Bild akzeptiert: \n",
    "1) Bisher liegt unser Bild im Datentyp PI.Image.Image vor, das Modell möchte jedoch ein Numpy Array. Führen Sie einen Typecast mit ```np.array(..)``` durch. \n",
    "2) Weiterhin sind unsere Graustufen-Bilder im Wertebereich [0, 255], das mag unser Modell gar nicht, sondern möchte Werte im Bereich [0, 1]. Bringen Sie das Bild auf den entsprechenden Wertebereich (wir nennen dies Normalisieren).\n",
    "3) Das Bild liegt nun als 2-dimensionales Numpy Array (Breite x Höhe) vor. Das Modell erwartet jedoch ein Numpy Array des Shapes (X, 28, 28, 1), d.h. (AnzahlBilder, Breite, Höhe, AnzahlFarbChannels). In unserem Fall haben wir nur ein Bild zum Erkennen und als Grauwert nur einen Kanal, somit ist die neue Shape (1, 28, 28, 1):"
   ]
  },
  {
   "cell_type": "code",
   "execution_count": 16,
   "id": "f6e81432",
   "metadata": {},
   "outputs": [],
   "source": [
    "np_img = np.array(preprocessed_img)  # Schritt 1: Typecast zu Numpy Array\n",
    "np_img = np_img / 255.0  # Schritt 2: Normalisieren\n",
    "np_img = np_img.reshape((1, 28, 28, 1))  # Schritt 3: Reshape"
   ]
  },
  {
   "cell_type": "markdown",
   "id": "f52b7bb2",
   "metadata": {},
   "source": [
    "Das war's mit der Vorbereitung, nun lassen wir unser Modell mit ```predict(..)``` das Zeichen erkennen:"
   ]
  },
  {
   "cell_type": "code",
   "execution_count": 17,
   "id": "a1963182",
   "metadata": {},
   "outputs": [
    {
     "name": "stdout",
     "output_type": "stream",
     "text": [
      "\u001b[1m1/1\u001b[0m \u001b[32m━━━━━━━━━━━━━━━━━━━━\u001b[0m\u001b[37m\u001b[0m \u001b[1m0s\u001b[0m 34ms/step\n"
     ]
    }
   ],
   "source": [
    "predictions = model.predict(np_img)"
   ]
  },
  {
   "cell_type": "markdown",
   "id": "606756a4",
   "metadata": {},
   "source": [
    "Für jede Klasse Zahlen (0, 1, 2, .., 9) liefert unser Modell eine Erkennungswahrscheinlichkeit. Mit etwas Glück entspricht die Klasse mit der höchsten Wahrscheinlichkeit unserer Zahl. Ansonsten ist eventuell die Handschrift zu schlecht lesbar oder die Qualität des Bildes (vor allem Kontrast!) zu schlecht. Dann einfach erneut mit einem anderen Bild oder anderer Zahl probieren! "
   ]
  },
  {
   "cell_type": "code",
   "execution_count": 18,
   "id": "30cda329",
   "metadata": {},
   "outputs": [
    {
     "name": "stdout",
     "output_type": "stream",
     "text": [
      "[[5.2759154e-03 2.6110390e-03 9.5073623e-04 8.4491272e-04 4.1541308e-03\n",
      "  3.8685065e-02 8.9909410e-01 1.3661204e-04 4.7277071e-02 9.7051699e-04]]\n"
     ]
    }
   ],
   "source": [
    "print(predictions)"
   ]
  },
  {
   "cell_type": "code",
   "execution_count": 19,
   "id": "9ab8e245",
   "metadata": {},
   "outputs": [
    {
     "name": "stdout",
     "output_type": "stream",
     "text": [
      "Das Modell erkennt die Zahl als: 6\n"
     ]
    }
   ],
   "source": [
    "predicted_class = int(np.argmax(predictions[0]))\n",
    "print(f\"Das Modell erkennt die Zahl als: {predicted_class}\")"
   ]
  },
  {
   "cell_type": "markdown",
   "id": "29418e2b",
   "metadata": {},
   "source": [
    "Wenn Sie soweit gekommen sind probieren Sie gerne weitere Zahlen aus. Variieren Sie die Schreibweise (gut lesbar, schlecht lesbar) oder die Qualität des Bildes (hell, dunkel, guter Kontrast, schlechter Kontrast) und schauen was das Modell macht."
   ]
  }
 ],
 "metadata": {
  "kernelspec": {
   "display_name": ".venv",
   "language": "python",
   "name": "python3"
  },
  "language_info": {
   "codemirror_mode": {
    "name": "ipython",
    "version": 3
   },
   "file_extension": ".py",
   "mimetype": "text/x-python",
   "name": "python",
   "nbconvert_exporter": "python",
   "pygments_lexer": "ipython3",
   "version": "3.13.2"
  }
 },
 "nbformat": 4,
 "nbformat_minor": 5
}
