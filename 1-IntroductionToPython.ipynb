{
 "cells": [
  {
   "cell_type": "markdown",
   "id": "c8c3a786",
   "metadata": {},
   "source": [
    "# Eine kleine Einführung in Python und Jupyter Notebooks"
   ]
  },
  {
   "cell_type": "markdown",
   "id": "1c3f10ca",
   "metadata": {},
   "source": [
    "Jupyter Notebooks biete eine einfache Möglichkeit ausführbaren Code und Text in einem File zu haben. Dafür gibt es drei verschiedene Zellarten:\n",
    "- Markdown: hier kann Text geschrieben und über bestimmte Formatierunsanweisungen formatiert werden (für Interessierte: https://www.markdownguide.org/getting-started/)\n",
    "- Code: eine Code Zelle enthält Python Code und kann mittels des kleinen Pfeils im Python Interpreter ausgeführt werden\n",
    "- Batch: direkte Anweisung an ein Terminal (brauchen Sie eher weniger, bzw. wenn dann ist es vorgegeben) "
   ]
  },
  {
   "cell_type": "markdown",
   "id": "bb787a19",
   "metadata": {},
   "source": [
    "## Erstellung Virtuelle Python Umgebung\n",
    "\n",
    "Mit Hilfe des Tutorials \"Juypter-Notebooks mit Visual Studio Code\" haben Sie bereits alle notwendigen Programme und Plugins installiert, um einfache Python Progamme auszuführen. Diese Installation hat jedoch nur die Basispakete inkludiert, d.h. wir werden häufig an die Stelle kommen, dass Pakete nachinstalliert werden müssen. Dies funktioniert unkompliziert über ```pip install```und meist wird dies in den Jupyter Notebooks die Sie erhalten bereits drin sein. Wenn Sie nun aber an verschiedenen Projekten mit Python arbeiten (z.B. die Vorlesung, Ihr BME-Projekt, Abschlussarbeit, ..) empfiehlt es sich ein so genanntes virtuelles Environment für jedes Projekt anzulegen, damit sich die jeweiligen Pakete in den Projekten nicht gegenseitig beeinflussen. \n",
    "\n",
    "Erstellen Sie nun eine Virtuelle Umgebung mit VSCode:\n",
    "1) Gehen Sie in die Befehlspalette (Anzeigen -> Befehlspalette)\n",
    "2) In der Befehlspalette auswählen: ```Python: Umgebung erstellen```\n",
    "\n",
    "![Virtuelle Umgebung erstellen](imgs/1-PythonUmgebung.png)\n",
    "\n",
    "3) ```venv``` auswählen\n",
    "\n",
    "![Venv auswählen](imgs/1-venv.png)\n",
    "\n",
    "4) Ihre Python Version auswählen. Je nachdem was Sie installiert haben, kann das 3.11, 3.12, 3.13 sein. \n",
    "\n",
    "Nun erstellt VSCode Ihnen eine neue virtuelle Umgebung, mit welcher Sie in der Vorlesung arbeiten können."
   ]
  },
  {
   "cell_type": "markdown",
   "id": "c254cdb6",
   "metadata": {},
   "source": [
    "## Erste Schritte mit Python\n",
    "\n",
    "Nun möchten wir unseren ersten Python Code ausführen :). Die folgende Code-Zelle ist identisch als wenn Sie in Java schreiben: ```System.out.println(\"Hello World\");```. Ausführen können wir dies mit dem kleinen Pfeil links der Zelle.\n",
    "\n",
    "*Anmerkung: Eventuell müssen Sie beim ersten Ausführen Ihre (gerade erstellte) Umgebung auswählen. Sofern sich eine Schaltfläche \"Kernel auswählen\" öffnet, selektieren Sie Python-Umgebungen und dann Ihre zuvor erstellte Umgebung (.venv/bin/python)*\n",
    "\n",
    "![Venv auswählen](imgs/1-KernelAuswaehlen.png)"
   ]
  },
  {
   "cell_type": "code",
   "execution_count": null,
   "id": "18657deb",
   "metadata": {},
   "outputs": [],
   "source": [
    "print(\"Hello World\")"
   ]
  },
  {
   "cell_type": "markdown",
   "id": "3f9eae0c",
   "metadata": {
    "vscode": {
     "languageId": "bat"
    }
   },
   "source": [
    "Ein zentrales Konzept von Python und Unterschied zu den Programmiersprachen die Sie kennen (Java, C++), ist die Definition von Blöcken über Einrückungen. In Java oder C++ definieren Sie einen Block, z.B. einer Funktion oder Schleife, über die geschweiften Klammern. In Python funktioniert dies über einen Doppelpunkt und TAB, folgender Java Code sieht somit in Python etwas anders aus.\n",
    "\n",
    "Java:\n",
    "```java\n",
    "int sum = 0;\n",
    "int[] numbers = {5, 10, 32};\n",
    "for (int i: numbers) {\n",
    "\tSystem.out.println(\"I add number: \" + i);\n",
    "\tsum += i;\n",
    "}\n",
    "System.out.println(\"The sum is: \" + sum);\n",
    "```\n",
    "\n",
    "Python:"
   ]
  },
  {
   "cell_type": "code",
   "execution_count": null,
   "id": "c7117bb9",
   "metadata": {},
   "outputs": [],
   "source": [
    "sum = 0\n",
    "numbers = [5, 10, 32]\n",
    "for i in numbers:\n",
    "    print(\"I add number: \", i)\n",
    "    sum += i\n",
    "print(\"The sum is: \", sum)"
   ]
  },
  {
   "cell_type": "markdown",
   "id": "38450407",
   "metadata": {},
   "source": [
    "Beim Betrachten des Python Code fällt uns sofort auf, dass unsere Variablen keinen Typ haben. Im Code ist dies erstmal so, jedoch nutzt Python im Hintergrund eine implizite Typisierung. Im Folgenden Code sehen wir, dass ```sum```und ```numbers``` sehr wohl einen Typ haben:\n"
   ]
  },
  {
   "cell_type": "code",
   "execution_count": null,
   "id": "c0aa5bcc",
   "metadata": {},
   "outputs": [],
   "source": [
    "type(sum)\n"
   ]
  },
  {
   "cell_type": "code",
   "execution_count": null,
   "id": "bf0b30e7",
   "metadata": {},
   "outputs": [],
   "source": [
    "type(numbers)"
   ]
  },
  {
   "cell_type": "markdown",
   "id": "8acde2e8",
   "metadata": {},
   "source": [
    "Manchmal fällt uns dies auch auf die Füße, zum Beispiel, wenn wir einen String mit einem int addieren möchten:"
   ]
  },
  {
   "cell_type": "code",
   "execution_count": null,
   "id": "4a2cba9e",
   "metadata": {},
   "outputs": [],
   "source": [
    "my_string = \"The sum is \"\n",
    "concatenated_string = my_string + sum "
   ]
  },
  {
   "cell_type": "markdown",
   "id": "24949434",
   "metadata": {},
   "source": [
    "Um dies zu ermöglichen, müssen wir die Typen unserer Variablen kennen und entsprechend explizit mit ```str(sum)``` umwandeln:"
   ]
  },
  {
   "cell_type": "code",
   "execution_count": null,
   "id": "30d45a96",
   "metadata": {},
   "outputs": [],
   "source": [
    "concatenated_string = my_string + str(sum)\n",
    "print(concatenated_string)"
   ]
  },
  {
   "cell_type": "markdown",
   "id": "e2831a1e",
   "metadata": {},
   "source": [
    "In Programmieren 1-3 haben wir gelernt, dass man für eine übersichtliche Programmierung logische Einheiten in Funktionen auslagern sollte. Dies geht in python natürlich auch. Mit ```print()``` haben wir bereits auch eine interne Funktion aufgerufen. Wichtig in Jupyter Notebooks ist, dass Sie die Zelle mit der Definition der Funktion vor dem Funktionsaufruf ausführt, sonst kennt Python die Funktion noch nicht."
   ]
  },
  {
   "cell_type": "code",
   "execution_count": null,
   "id": "c7f4dd8b",
   "metadata": {},
   "outputs": [],
   "source": [
    "# Ich bin ein Kommentar!\n",
    "# Wir definieren eine Funktion add_two_numbers, die zwei Zahlen addiert:\n",
    "\n",
    "def add_two_numbers(number1, number2):\n",
    "    print(f\"I am adding two numbers {number1} and {number2}\")\n",
    "    return number1 + number2"
   ]
  },
  {
   "cell_type": "markdown",
   "id": "b3fc7d45",
   "metadata": {},
   "source": [
    "nun rufen wir diese Funktion mit zwei Zahlen unserer Liste numbers auf:"
   ]
  },
  {
   "cell_type": "code",
   "execution_count": null,
   "id": "c76e83ae",
   "metadata": {},
   "outputs": [],
   "source": [
    "first_number = numbers[0]\n",
    "second_number = numbers[1]\n",
    "added_numbers = add_two_numbers(first_number, second_number)\n",
    "print(\"Added_numbers: \", added_numbers)"
   ]
  },
  {
   "cell_type": "markdown",
   "id": "3a805f5f",
   "metadata": {},
   "source": [
    "Natürlich kann man das auch kürzer schreiben:"
   ]
  },
  {
   "cell_type": "code",
   "execution_count": null,
   "id": "86a5a330",
   "metadata": {},
   "outputs": [],
   "source": [
    "print(\"added_numbers: \", add_two_numbers(numbers[0], numbers[1]))"
   ]
  },
  {
   "cell_type": "markdown",
   "id": "b77e81f4",
   "metadata": {},
   "source": [
    "Ansonsten nutzt Python weitestgehend dieselben Konzepte wie Java und C++. Meist sind nur kleine syntaktische Unterschiede, schauen Sie für Details gerne auf folgender Seite vorbei: https://learnxinyminutes.com/de/python/ . Sie liefert einen sehr umfassenden Überblick über die Syntax und Möglichkeiten von Python."
   ]
  },
  {
   "cell_type": "markdown",
   "id": "4c879c8f",
   "metadata": {},
   "source": [
    "## Bibliotheken / Pakete\n",
    "\n",
    "Wie erwähnt müssen wir die Basisinstallation von Python oftmals um spezielle Pakete erweitern (deswegen haben wir auch die virtuelle Umgebung erstellt). Diese Pakete werden aus dem Internet geladen und in ihrer virtuellen Umgebung installiert. Das funktioniert sehr einfach mit dem Paketmanager ```pip```.\n",
    "\n",
    "Exemplarisch möchten wir hier eines der gängisten Pakete für KI installieren: ```numpy```. Es ermöglicht sehr effiziente numerische Berechnungen."
   ]
  },
  {
   "cell_type": "code",
   "execution_count": null,
   "id": "68281ff0",
   "metadata": {},
   "outputs": [],
   "source": [
    "pip install numpy"
   ]
  },
  {
   "cell_type": "markdown",
   "id": "1a7fe814",
   "metadata": {},
   "source": [
    "Wir erkennen in Python dass wir installierte Pakete nutzen an dem Schlüsselwort ```import```. Sie können Funktionen des Pakets erst nutzen, wenn sie es importiert haben:"
   ]
  },
  {
   "cell_type": "code",
   "execution_count": null,
   "id": "0b32a88c",
   "metadata": {},
   "outputs": [],
   "source": [
    "import numpy as np"
   ]
  },
  {
   "cell_type": "markdown",
   "id": "44f88c54",
   "metadata": {},
   "source": [
    "Als kleines Beispiel möchten wir zwei Vektoren mit derselben Länge elementweise addieren:"
   ]
  },
  {
   "cell_type": "code",
   "execution_count": null,
   "id": "77780e5a",
   "metadata": {},
   "outputs": [],
   "source": [
    "vec1 = np.array([1, 1, 1])\n",
    "vec2 = np.array([1, 2, 3])\n",
    "added_vec = np.add(vec1, vec2)\n",
    "print(f\"We added vector {vec1} and {vec2}: {added_vec}\")"
   ]
  }
 ],
 "metadata": {
  "kernelspec": {
   "display_name": ".venv",
   "language": "python",
   "name": "python3"
  },
  "language_info": {
   "codemirror_mode": {
    "name": "ipython",
    "version": 3
   },
   "file_extension": ".py",
   "mimetype": "text/x-python",
   "name": "python",
   "nbconvert_exporter": "python",
   "pygments_lexer": "ipython3",
   "version": "3.13.2"
  }
 },
 "nbformat": 4,
 "nbformat_minor": 5
}
