{
 "cells": [
  {
   "cell_type": "markdown",
   "id": "43ad0d58",
   "metadata": {},
   "source": [
    "## Daten Analysieren\n",
    "\n",
    "Im ersten Teil der Übung möchten wird uns einen öffentlichen Datensatz zu Hauspreisen genauer anschauen. Hierfür nutzen wir den Datensatz __Housing Prices Dataset__ von https://www.kaggle.com/datasets/yasserh/housing-prices-dataset/data . Rufen Sie die Seite auf und lesen sich die Informationen über den Datensatz durch.\n",
    "\n",
    "Wie viele Datenpunkte (Samples bzw. Zeilen) hat der Datensatz?"
   ]
  },
  {
   "cell_type": "code",
   "execution_count": null,
   "id": "0163c18d",
   "metadata": {},
   "outputs": [],
   "source": [
    "# todo"
   ]
  },
  {
   "cell_type": "markdown",
   "id": "2f4fadce",
   "metadata": {},
   "source": [
    "### Download der Daten\n",
    "\n",
    "Sie können die Daten von https://www.kaggle.com/ auf unterschiedlichste Weise downloaden (z.B. als .zip, per CLI, per API, etc.). Die einfachste Möglichkeit ist die Python Bibliothek [kagglehub](https://pypi.org/project/kagglehub/0.1.4/) zu nutzen, diese installieren wir mit ```pip```:"
   ]
  },
  {
   "cell_type": "code",
   "execution_count": null,
   "id": "5d754d4f",
   "metadata": {},
   "outputs": [],
   "source": [
    "pip install kagglehub"
   ]
  },
  {
   "cell_type": "markdown",
   "id": "625917cc",
   "metadata": {},
   "source": [
    "Nun können wir mit ```kagglehub``` den Datensatz herunterladen:"
   ]
  },
  {
   "cell_type": "code",
   "execution_count": null,
   "id": "24f8ed35",
   "metadata": {},
   "outputs": [],
   "source": [
    "import kagglehub\n",
    "import os\n",
    "\n",
    "os.environ['KAGGLEHUB_CACHE'] = 'data'\n",
    "path = kagglehub.dataset_download(\"yasserh/housing-prices-dataset\")\n",
    "\n",
    "print(\"Path to dataset files:\", path)"
   ]
  },
  {
   "cell_type": "markdown",
   "id": "f95d3ffe",
   "metadata": {},
   "source": [
    "### Einlesen der Daten mit Pandas und Metadaten analysieren\n",
    "\n",
    "Ein erster Schritt, um einen Datensatz zu verstehen, ist seine Metadaten anszuschauen. Das machen wir im folgenden.\n",
    "\n",
    "Eine wichtige Bibliothek zur Analyse von Daten ist die Python Bibliothek [pandas](https://pypi.org/project/pandas/). Wir haben ja bereits etwas Übung in der Installation von Bibliotheken, installieren Sie pandas mit ```pip```:"
   ]
  },
  {
   "cell_type": "code",
   "execution_count": null,
   "id": "20c9b71f",
   "metadata": {},
   "outputs": [],
   "source": [
    "# todo: pandas installieren"
   ]
  },
  {
   "cell_type": "markdown",
   "id": "c4c88f01",
   "metadata": {},
   "source": [
    "Wir können nun den House Pricing Datensatz in Pandas öffnen:"
   ]
  },
  {
   "cell_type": "code",
   "execution_count": null,
   "id": "eee74924",
   "metadata": {},
   "outputs": [],
   "source": [
    "import pandas as pd\n",
    "\n",
    "df = pd.read_csv(os.path.join(path, 'housing.csv'))"
   ]
  },
  {
   "cell_type": "code",
   "execution_count": null,
   "id": "e0f0d07f",
   "metadata": {},
   "outputs": [],
   "source": [
    "# todo: ersten 5 Zeilen des Datensatzes anzeigen"
   ]
  },
  {
   "cell_type": "markdown",
   "id": "37a25797",
   "metadata": {},
   "source": [
    "Geben Sie die Anzahl der verkauften Häuser aus:"
   ]
  },
  {
   "cell_type": "code",
   "execution_count": null,
   "id": "c344873c",
   "metadata": {},
   "outputs": [],
   "source": [
    "# todo"
   ]
  },
  {
   "cell_type": "markdown",
   "id": "3de8b601",
   "metadata": {},
   "source": [
    "Für welchen Preis wurde das teuerste Haus verkauft?"
   ]
  },
  {
   "cell_type": "code",
   "execution_count": null,
   "id": "dd55c317",
   "metadata": {},
   "outputs": [],
   "source": [
    "# todo"
   ]
  },
  {
   "cell_type": "markdown",
   "id": "b11cf519",
   "metadata": {},
   "source": [
    "Wie ist die durchschnittliche Hausgröße (area) im Datensatz?"
   ]
  },
  {
   "cell_type": "code",
   "execution_count": null,
   "id": "060427ba",
   "metadata": {},
   "outputs": [],
   "source": [
    "# todo"
   ]
  },
  {
   "cell_type": "markdown",
   "id": "ed9721d5",
   "metadata": {},
   "source": [
    "Hilfreich ist meist auch sich eine gesamte Statistik über den Datensatz auszugeben:"
   ]
  },
  {
   "cell_type": "code",
   "execution_count": null,
   "id": "c6be8563",
   "metadata": {},
   "outputs": [],
   "source": [
    "# todo"
   ]
  },
  {
   "cell_type": "markdown",
   "id": "0ede31f9",
   "metadata": {},
   "source": [
    "Fügen Sie nun ein neues Feature Räume hinzu. Räume soll sich definieren aus der Summe der Betträume (bedrooms), Bäder (bathrooms), Gästezimmer (guestroom) und zusätzlich pro Haus jeweils eine Küche und ein Wohnzimmer:\n",
    "\n",
    "Anmerkung: eventuell hilft Ihnen folgender Artikel: https://stackoverflow.com/questions/40901770/is-there-a-simple-way-to-change-a-column-of-yes-no-to-1-0-in-a-pandas-dataframe"
   ]
  },
  {
   "cell_type": "code",
   "execution_count": null,
   "id": "66cae395",
   "metadata": {},
   "outputs": [],
   "source": [
    "# todo"
   ]
  }
 ],
 "metadata": {
  "kernelspec": {
   "display_name": ".venv",
   "language": "python",
   "name": "python3"
  },
  "language_info": {
   "codemirror_mode": {
    "name": "ipython",
    "version": 3
   },
   "file_extension": ".py",
   "mimetype": "text/x-python",
   "name": "python",
   "nbconvert_exporter": "python",
   "pygments_lexer": "ipython3",
   "version": "3.13.2"
  }
 },
 "nbformat": 4,
 "nbformat_minor": 5
}
