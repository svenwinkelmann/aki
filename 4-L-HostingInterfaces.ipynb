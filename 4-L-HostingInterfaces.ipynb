{
 "cells": [
  {
   "cell_type": "markdown",
   "id": "fd70a5b6",
   "metadata": {},
   "source": [
    "## 2 - Code zur Vorlesung Hosting und Interfaces\n",
    "\n",
    "Der folgende Code wird in der vierten Vorlesungseinheit Hosting und Interfaces gezeigt. "
   ]
  },
  {
   "cell_type": "markdown",
   "id": "8c6848fa",
   "metadata": {},
   "source": [
    "### JSON\n",
    "\n",
    "JSON (JavaScript Object Notation) ist ein lichtgewichtiges Datenformat, das für den Austausch von Informationen zwischen Systemen verwendet wird. Es ist menschenlesbar und maschinenfreundlich, was es ideal für APIs, Konfigurationen und Datenübertragung macht.\n",
    "\n",
    "JSON-Daten werden in Python mit dem integrierten json-Modul verarbeitet.\n",
    "Die wichtigsten Funktionen:\n",
    "\n",
    "- ```json.dumps()```: Wandelt ein Python-Objekt (z. B. Dictionary) in einen JSON-String um.\n",
    "- ```json.loads()```: Wandelt einen JSON-String in ein Python-Objekt um.\n",
    "- ```json.dump()/json.load()```: Arbeitet mit Dateien.\n"
   ]
  },
  {
   "cell_type": "code",
   "execution_count": 1,
   "id": "dddd32fd",
   "metadata": {},
   "outputs": [],
   "source": [
    "import json"
   ]
  },
  {
   "cell_type": "markdown",
   "id": "5b0d1a02",
   "metadata": {},
   "source": [
    "#### Python-Dictionary → JSON-String"
   ]
  },
  {
   "cell_type": "code",
   "execution_count": 16,
   "id": "6ab88d7c",
   "metadata": {},
   "outputs": [
    {
     "name": "stdout",
     "output_type": "stream",
     "text": [
      "JSON-String:\n",
      "{\n",
      "    \"model\": \"cat_dog_classifier\",\n",
      "    \"daten\": {\n",
      "        \"bild_url\": \"https://beispiel.de/bild.jpg\",\n",
      "        \"parameter\": {\n",
      "            \"konfidenzschwelle\": 0.8\n",
      "        }\n",
      "    },\n",
      "    \"classes\": [\n",
      "        \"Katze\",\n",
      "        \"Hund\"\n",
      "    ]\n",
      "}\n"
     ]
    }
   ],
   "source": [
    "data = {\n",
    "    \"model\": \"cat_dog_classifier\",\n",
    "    \"daten\": {\n",
    "        \"bild_url\": \"https://beispiel.de/bild.jpg\",\n",
    "        \"parameter\": { \"konfidenzschwelle\": 0.8 }\n",
    "    }\n",
    "}\n",
    "data[\"classes\"] = [\"Katze\", \"Hund\"]\n",
    "json_string = json.dumps(data, indent=4)  # `indent` für bessere Lesbarkeit\n",
    "print(\"JSON-String:\")\n",
    "print(json_string)"
   ]
  },
  {
   "cell_type": "markdown",
   "id": "2c651f5a",
   "metadata": {},
   "source": [
    "#### JSON-String → Python-Dictionary"
   ]
  },
  {
   "cell_type": "code",
   "execution_count": 17,
   "id": "b2cbbaca",
   "metadata": {},
   "outputs": [
    {
     "name": "stdout",
     "output_type": "stream",
     "text": [
      "Zugriff auf Daten im Dictionary:\n",
      "Modell: cat_dog_classifier\n",
      "Bild-URL: https://beispiel.de/bild.jpg\n",
      "Konfidenzschwelle: 0.8\n",
      "1. Klasse: Katze\n",
      "2. Klasse: Hund\n"
     ]
    }
   ],
   "source": [
    "decoded_data = json.loads(json_string)\n",
    "\n",
    "print(\"Zugriff auf Daten im Dictionary:\")\n",
    "print(\"Modell:\", decoded_data[\"model\"])\n",
    "print(\"Bild-URL:\", decoded_data[\"daten\"][\"bild_url\"])\n",
    "print(\"Konfidenzschwelle:\", decoded_data[\"daten\"][\"parameter\"][\"konfidenzschwelle\"])\n",
    "print(\"1. Klasse:\", decoded_data[\"classes\"][0])\n",
    "print(\"2. Klasse:\", decoded_data[\"classes\"][1])"
   ]
  },
  {
   "cell_type": "markdown",
   "id": "9c8bc0e5",
   "metadata": {},
   "source": [
    "### REST-API mit API-Key"
   ]
  },
  {
   "cell_type": "code",
   "execution_count": null,
   "id": "570ad6f3",
   "metadata": {},
   "outputs": [
    {
     "name": "stdout",
     "output_type": "stream",
     "text": [
      "Antwort vom Modell:\n",
      "Okay, stell dir vor, du hast eine Schatzkiste mit vielen kleinen Schätzen drin – zum Beispiel Murmeln, Sticker und Süßigkeiten. Aber du willst nicht einfach alles durcheinander in die Kiste werfen, sondern ordentlich sortieren, damit du später weißt, was wo ist.\n",
      "\n",
      "**JSON** ist wie eine super einfache Art, diese Schätze zu beschreiben, damit jeder sie versteht – sogar ein Computer!\n",
      "\n",
      "### So funktioniert’s:\n",
      "1. **Du beschreibst deine Schätze mit Namen und Werten**:\n",
      "   - *\"Marmelade: 5 Stück\"*\n",
      "   - *\"Sticker: 10 Stück\"*\n",
      "   - *\"Murmeln: 3 Stück\"*\n",
      "\n",
      "2. **In JSON sieht das so aus** (wie eine kleine Liste mit Klammern und Kommas):\n",
      "   ```json\n",
      "   {\n",
      "     \"Marmelade\": 5,\n",
      "     \"Sticker\": 10,\n",
      "     \"Murmeln\": 3\n",
      "   }\n",
      "   ```\n",
      "\n",
      "3. **Warum ist das cool?**\n",
      "   - **Einfach**: Keine komplizierten Regeln, nur Namen und Werte.\n",
      "   - **Alles versteht es**: Menschen, Computer, sogar Apps auf deinem Handy.\n",
      "   - **Flexibel**: Du kannst alles beschreiben – von Spielzeug bis zu Geheimnissen!\n",
      "\n",
      "### Beispiel aus dem echten Leben:\n",
      "Wenn du einem Roboter sagen willst, wie dein Lieblings-Eis aussieht, könntest du schreiben:\n",
      "```json\n",
      "{\n",
      "  \"Name\": \"Schoko-Erdbeer\",\n",
      "  \"Geschmack\": \"süß\",\n",
      "  \"Kugeln\": 2,\n",
      "  \"Topping\": \"Sahne\"\n",
      "}\n",
      "```\n",
      "\n",
      "Und der Roboter weiß genau, was du meinst! 🍦\n",
      "\n",
      "**Zusammenfassung**: JSON ist wie eine klare, einfache Sprache, um Dinge zu beschreiben – für Menschen *und* Computer. 😊\n"
     ]
    }
   ],
   "source": [
    "# never ever put your API key directly in code like this in real projects!!! \n",
    "# Instead you can use an environment variable or a config file that is not shared publicly.\n",
    "API_KEY = \"...\"\n",
    "\n",
    "import requests\n",
    "\n",
    "url = \"https://api.mistral.ai/v1/chat/completions\"\n",
    "headers = {\"Authorization\": \"Bearer \" + API_KEY}\n",
    "query = \"Erkläre mir was JSON ist, als ob ich 10 Jahre alt wäre.\"\n",
    "data = {\"messages\": [{\"role\": \"user\", \"content\": query}], \"model\": \"mistral-small-latest\"}\n",
    "\n",
    "response = requests.post(url, headers=headers, json=data)\n",
    "if response.status_code == 200:\n",
    "    result = response.json()\n",
    "    print(\"Antwort vom Modell:\")\n",
    "    print(result[\"choices\"][0][\"message\"][\"content\"])\n",
    "else:   \n",
    "    print(f\"Fehler: {response.status_code}\")\n",
    "    print(response.text)"
   ]
  },
  {
   "cell_type": "code",
   "execution_count": 48,
   "id": "1f97c889",
   "metadata": {},
   "outputs": [
    {
     "name": "stdout",
     "output_type": "stream",
     "text": [
      "{\n",
      "    \"choices\": [\n",
      "        {\n",
      "            \"finish_reason\": \"stop\",\n",
      "            \"index\": 0,\n",
      "            \"message\": {\n",
      "                \"content\": \"Okay, stell dir vor, du hast eine Schatzkiste mit vielen kleinen Sch\\u00e4tzen drin \\u2013 zum Beispiel Murmeln, Sticker und S\\u00fc\\u00dfigkeiten. Aber du willst nicht einfach alles durcheinander in die Kiste werfen, sondern ordentlich sortieren, damit du sp\\u00e4ter wei\\u00dft, was wo ist.\\n\\n**JSON** ist wie eine super einfache Art, diese Sch\\u00e4tze zu beschreiben, damit jeder sie versteht \\u2013 sogar ein Computer!\\n\\n### So funktioniert\\u2019s:\\n1. **Du beschreibst deine Sch\\u00e4tze mit Namen und Werten**:\\n   - *\\\"Marmelade: 5 St\\u00fcck\\\"*\\n   - *\\\"Sticker: 10 St\\u00fcck\\\"*\\n   - *\\\"Murmeln: 3 St\\u00fcck\\\"*\\n\\n2. **In JSON sieht das so aus** (wie eine kleine Liste mit Klammern und Kommas):\\n   ```json\\n   {\\n     \\\"Marmelade\\\": 5,\\n     \\\"Sticker\\\": 10,\\n     \\\"Murmeln\\\": 3\\n   }\\n   ```\\n\\n3. **Warum ist das cool?**\\n   - **Einfach**: Keine komplizierten Regeln, nur Namen und Werte.\\n   - **Alles versteht es**: Menschen, Computer, sogar Apps auf deinem Handy.\\n   - **Flexibel**: Du kannst alles beschreiben \\u2013 von Spielzeug bis zu Geheimnissen!\\n\\n### Beispiel aus dem echten Leben:\\nWenn du einem Roboter sagen willst, wie dein Lieblings-Eis aussieht, k\\u00f6nntest du schreiben:\\n```json\\n{\\n  \\\"Name\\\": \\\"Schoko-Erdbeer\\\",\\n  \\\"Geschmack\\\": \\\"s\\u00fc\\u00df\\\",\\n  \\\"Kugeln\\\": 2,\\n  \\\"Topping\\\": \\\"Sahne\\\"\\n}\\n```\\n\\nUnd der Roboter wei\\u00df genau, was du meinst! \\ud83c\\udf66\\n\\n**Zusammenfassung**: JSON ist wie eine klare, einfache Sprache, um Dinge zu beschreiben \\u2013 f\\u00fcr Menschen *und* Computer. \\ud83d\\ude0a\",\n",
      "                \"role\": \"assistant\",\n",
      "                \"tool_calls\": null\n",
      "            }\n",
      "        }\n",
      "    ],\n",
      "    \"created\": 1760994693,\n",
      "    \"id\": \"4af2aadde85749d5b1d84d8b639877ab\",\n",
      "    \"model\": \"mistral-small-latest\",\n",
      "    \"object\": \"chat.completion\",\n",
      "    \"usage\": {\n",
      "        \"completion_tokens\": 410,\n",
      "        \"prompt_tokens\": 21,\n",
      "        \"total_tokens\": 431\n",
      "    }\n",
      "}\n"
     ]
    }
   ],
   "source": [
    "print (json.dumps(result, indent=4, sort_keys=True))"
   ]
  }
 ],
 "metadata": {
  "kernelspec": {
   "display_name": ".venv",
   "language": "python",
   "name": "python3"
  },
  "language_info": {
   "codemirror_mode": {
    "name": "ipython",
    "version": 3
   },
   "file_extension": ".py",
   "mimetype": "text/x-python",
   "name": "python",
   "nbconvert_exporter": "python",
   "pygments_lexer": "ipython3",
   "version": "3.13.2"
  }
 },
 "nbformat": 4,
 "nbformat_minor": 5
}
