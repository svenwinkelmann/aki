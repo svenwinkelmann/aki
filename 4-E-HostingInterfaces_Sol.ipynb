{
 "cells": [
  {
   "cell_type": "markdown",
   "id": "58c5129e",
   "metadata": {},
   "source": [
    "## Hosting und Interface bestehendes Modell\n",
    "\n",
    "In der heutigen Übung möchten wir das Modell von letztem Mal (Handschrifterkennung) hosten und über eine REST-API zur Verfügung stellen. Dafür nutzen wir die Flask Library:"
   ]
  },
  {
   "cell_type": "code",
   "execution_count": 7,
   "id": "f946e6fe",
   "metadata": {},
   "outputs": [
    {
     "name": "stdout",
     "output_type": "stream",
     "text": [
      "Requirement already satisfied: flask in ./.venv/lib/python3.13/site-packages (3.1.2)\n",
      "Requirement already satisfied: blinker>=1.9.0 in ./.venv/lib/python3.13/site-packages (from flask) (1.9.0)\n",
      "Requirement already satisfied: click>=8.1.3 in ./.venv/lib/python3.13/site-packages (from flask) (8.3.0)\n",
      "Requirement already satisfied: itsdangerous>=2.2.0 in ./.venv/lib/python3.13/site-packages (from flask) (2.2.0)\n",
      "Requirement already satisfied: jinja2>=3.1.2 in ./.venv/lib/python3.13/site-packages (from flask) (3.1.6)\n",
      "Requirement already satisfied: markupsafe>=2.1.1 in ./.venv/lib/python3.13/site-packages (from flask) (3.0.3)\n",
      "Requirement already satisfied: werkzeug>=3.1.0 in ./.venv/lib/python3.13/site-packages (from flask) (3.1.3)\n",
      "Note: you may need to restart the kernel to use updated packages.\n"
     ]
    }
   ],
   "source": [
    "pip install flask"
   ]
  },
  {
   "cell_type": "markdown",
   "id": "9402d439",
   "metadata": {},
   "source": [
    "### Laden des Modells inkl. Datenvorverarbeitung\n",
    "\n",
    "Letztes Mal haben wir ein Modell auf Basis des MNIST Datensatzes von Kaggle heruntergeladen und mit Tensorflow geladen. Das machen wir heute genauso:"
   ]
  },
  {
   "cell_type": "code",
   "execution_count": 8,
   "id": "f16ed197",
   "metadata": {},
   "outputs": [
    {
     "name": "stderr",
     "output_type": "stream",
     "text": [
      "WARNING:absl:Compiled the loaded model, but the compiled metrics have yet to be built. `model.compile_metrics` will be empty until you train or evaluate the model.\n"
     ]
    }
   ],
   "source": [
    "import tensorflow as tf\n",
    "import os\n",
    "\n",
    "model_path = \"data/models/adhul000/mnist-99/tensorFlow2/default/1\"\n",
    "\n",
    "model = tf.keras.models.load_model(os.path.join(model_path, \"best_model.h5\"))"
   ]
  },
  {
   "cell_type": "markdown",
   "id": "5d7d0798",
   "metadata": {},
   "source": [
    "Nun benötigen wir noch unsere Funktionen zur Datenvorverarbeitung, die wir auch aus der letzten Übung kopieren können:"
   ]
  },
  {
   "cell_type": "code",
   "execution_count": null,
   "id": "86401224",
   "metadata": {},
   "outputs": [],
   "source": [
    "import numpy as np\n",
    "from PIL import Image\n",
    "\n",
    "def preprocess_image(image_path) -> Image:\n",
    "    img = Image.open(image_path)  \n",
    "    img = img.convert(\"L\")      # Schritt 1: Convert to grayscale\n",
    "    img = img.resize((28, 28))  # Schritt 2: Resize to 28x28\n",
    "    return img"
   ]
  },
  {
   "cell_type": "code",
   "execution_count": null,
   "id": "ac848bec",
   "metadata": {},
   "outputs": [],
   "source": [
    "def predict(img) -> int:\n",
    "    preprocessed_img = preprocess_image(img)\n",
    "    np_img = np.array(preprocessed_img)      # Schritt 1: Typecast zu Numpy Array\n",
    "    np_img = np_img / 255.0                  # Schritt 2: Normalisieren\n",
    "    np_img = np_img.reshape((1, 28, 28, 1))  # Schritt 3: Reshape\n",
    "    predictions = model.predict(np_img)      # Schritt 4: Vorhersage\n",
    "    predicted_class = int(np.argmax(predictions[0]))\n",
    "    return predicted_class"
   ]
  },
  {
   "cell_type": "markdown",
   "id": "37f2a029",
   "metadata": {},
   "source": [
    "### REST-API Erstellen\n",
    "\n",
    "Nun geht es an die eigentliche REST-API :). Lesen Sie sich den Artikel im Flask Tutorial \"A Minimal Application\" durch. Analog zu diesem Artikel implementieren Sie zuerst eine Route ```GET /version``` die uns Informationen über das Modell zur Verfügung stellt (z.B. den Pfad, Name oder ähnliches). \n",
    "\n",
    "Wir starten den Flask Server direkt aus dem Jupyter Notebook mit ```app.run(port=\"5000\")```. Wenn er läuft rufen Sie mit einem Internetbrowser oder Postman die Seite http://127.0.0.1:5000/version auf, da sollten Sie die Ausgabe Ihrer implementierten Funktion sehen. Wenn der Server läuft können Sie ihn mit \"Unterbrechen\" in VSCode wieder stoppen (davor lässt sich keine andere Juypter Zelle ausführen!).\n",
    "\n",
    "Implementieren Sie nun die Route ```POST /predict```, die ein Bild entgegen nimmt, es vom Modell interpretieren lässt und die erkannte Ziffer zurück gibt. Denken Sie an die Datenvorverarbeitung ;-).\n",
    "\n"
   ]
  },
  {
   "cell_type": "code",
   "execution_count": 19,
   "id": "85e273b3",
   "metadata": {},
   "outputs": [
    {
     "name": "stdout",
     "output_type": "stream",
     "text": [
      " * Serving Flask app '__main__'\n",
      " * Debug mode: off\n"
     ]
    },
    {
     "name": "stderr",
     "output_type": "stream",
     "text": [
      "INFO:werkzeug:\u001b[31m\u001b[1mWARNING: This is a development server. Do not use it in a production deployment. Use a production WSGI server instead.\u001b[0m\n",
      " * Running on http://127.0.0.1:5000\n",
      "INFO:werkzeug:\u001b[33mPress CTRL+C to quit\u001b[0m\n",
      "ERROR:werkzeug:127.0.0.1 - - [21/Oct/2025 10:35:19] code 400, message Bad request version ('À\\x13À')\n",
      "INFO:werkzeug:127.0.0.1 - - [21/Oct/2025 10:35:19] \"\u001b[31m\u001b[1m\\x16\\x03\\x01\\x00å\\x01\\x00\\x00á\\x03\\x03\"»oZO\\x82pÇËúïÅ\\x81.Éâ·n\\x12Ú=Øg'f0¢i\\x09¤§ü ³UÒ!à\\x8f¸O\\x98ù\\x9dTê-õ®\\x0e0\\x8b|'2£È,\\x9bê\\x98É}*ã\\x00$\\x13\\x01\\x13\\x02\\x13\\x03À/À+À0À,À'Ì©Ì¨À\\x09À\\x13À\u001b[0m\" 400 -\n"
     ]
    },
    {
     "name": "stdout",
     "output_type": "stream",
     "text": [
      "\u001b[1m1/1\u001b[0m \u001b[32m━━━━━━━━━━━━━━━━━━━━\u001b[0m\u001b[37m\u001b[0m \u001b[1m0s\u001b[0m 49ms/step\n"
     ]
    },
    {
     "name": "stderr",
     "output_type": "stream",
     "text": [
      "INFO:werkzeug:127.0.0.1 - - [21/Oct/2025 10:35:26] \"POST /predict HTTP/1.1\" 200 -\n"
     ]
    }
   ],
   "source": [
    "from flask import Flask\n",
    "from flask import request \n",
    "\n",
    "app = Flask(__name__)\n",
    "\n",
    "@app.route(\"/\", methods=[\"GET\"])\n",
    "def get_hello():\n",
    "    return {\"Hello World\": \"This is the MNIST digit recognition REST-API.\"}\n",
    "\n",
    "@app.route(\"/version\", methods=[\"GET\"])\n",
    "def get_version():\n",
    "    return {\"model_version\": model_path}\n",
    "\n",
    "@app.route(\"/predict\", methods=[\"POST\"])\n",
    "def post_predict():\n",
    "    file = request.files[\"file\"]\n",
    "    predicted_class = predict(file)\n",
    "    return {\"prediction\": predicted_class}\n",
    "\n",
    "app.run(port=\"5000\")\n"
   ]
  },
  {
   "cell_type": "markdown",
   "id": "36d3f42a",
   "metadata": {},
   "source": [
    "Um Ihre API zu testen können Sie Postman verwenden (Anmerkung: um ein File als Value mit dem Request mit zu schicken, gibt es auf der rechten Seite von Key ein kleines DropDown zur Auswahl zwischen File und Text):\n",
    "\n",
    "![Postman Request to Server](imgs/4-Postman.jpg)"
   ]
  },
  {
   "cell_type": "markdown",
   "id": "e601ca5b",
   "metadata": {},
   "source": [
    "### Zugriff auf Web REST-API\n",
    "\n",
    "Sofern Sie mit den vorherigen Aufgaben durch sind, können Sie versuchen eine REST-API Ihrer Wahl mit Python anzusprechen. Im Jupyter Skript zur Vorlesung finden Sie ein Beispiel wie wir Mistral angesprochen haben. Da Sie für KI-API Endpunkte immer eine Registrierung bzw. API-Key benötigen, ist es ratsam eine API zu nehmen wo sie sowieso einen Acccount haben (z.B. Google, ChatGPT, Mistral, ..). Aus dem Nicht-KI-Umfeld ist es meist einfacher kostenfreie APIs zu bekommen, eine interessante Liste finden Sie hier: https://github.com/public-apis/public-apis"
   ]
  }
 ],
 "metadata": {
  "kernelspec": {
   "display_name": ".venv",
   "language": "python",
   "name": "python3"
  },
  "language_info": {
   "codemirror_mode": {
    "name": "ipython",
    "version": 3
   },
   "file_extension": ".py",
   "mimetype": "text/x-python",
   "name": "python",
   "nbconvert_exporter": "python",
   "pygments_lexer": "ipython3",
   "version": "3.13.2"
  }
 },
 "nbformat": 4,
 "nbformat_minor": 5
}
